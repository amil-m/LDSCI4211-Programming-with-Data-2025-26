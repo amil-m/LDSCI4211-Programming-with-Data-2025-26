{
 "cells": [
  {
   "cell_type": "markdown",
   "id": "9b94dbba-994a-42b9-b6e3-ebf40e2ce232",
   "metadata": {},
   "source": [
    "# Programming with Data Lab 1\n",
    "## JupyterLab\n",
    "Let's start with learning how to use our Integrated Development Environment (IDE), JupyterLab. Take a few moments to watch this video before starting the lab session."
   ]
  },
  {
   "cell_type": "code",
   "execution_count": 6,
   "id": "5a234c11-6788-44b3-ba39-e55e6f64ecf3",
   "metadata": {},
   "outputs": [
    {
     "data": {
      "image/jpeg": "[encoded data removed]",
      "text/html": [
       "\n",
       "        <iframe\n",
       "            width=\"560\"\n",
       "            height=\"315\"\n",
       "            src=\"https://www.youtube.com/embed/A5YyoCKxEOU\"\n",
       "            frameborder=\"0\"\n",
       "            allowfullscreen\n",
       "            \n",
       "        ></iframe>\n",
       "        "
      ],
      "text/plain": [
       "<IPython.lib.display.YouTubeVideo at 0x106bc5010>"
      ]
     },
     "execution_count": 6,
     "metadata": {},
     "output_type": "execute_result"
    }
   ],
   "source": [
    "from IPython.display import YouTubeVideo\n",
    "YouTubeVideo('A5YyoCKxEOU', width=560, height=315)"
   ]
  },
  {
   "cell_type": "markdown",
   "id": "8e2812fb-4a67-4e4f-b7ce-8d2cf106acbb",
   "metadata": {},
   "source": [
    "## Markdown\n",
    "Markdown is a very simple to use markup language for formatting text content inside JupyterLab notebooks. You will encounter markdown a a lot in programming, it helps us give form and structure to content without worrying about formatting and setting styles.\n",
    "\n",
    "### Headings\n",
    "You should use nested headings to give structure to your notebooks. There should only be one heading at level one which acts as the title of the document, and all subsequent sections should be heading two. Any subsections should be heading three, and subsections of heading threes should be heading four.\n",
    "\n",
    "### Task\n",
    "Practice creating headings, bulleted lists, numbered lists, bold, and inserting links using markdown."
   ]
  },
  {
   "cell_type": "code",
   "execution_count": null,
   "id": "059501f3-d4f9-4539-988a-2a54f7eafa3f",
   "metadata": {},
   "outputs": [],
   "source": [
    "# Change this to a markdown cell first"
   ]
  },
  {
   "cell_type": "markdown",
   "id": "712ac12f-09c5-4d3c-a0b0-3ebcda753fb0",
   "metadata": {},
   "source": [
    "## Types\n",
    "\n",
    "What is the type of the value of the following expressions? Make your best guess for each one, and then use the `type` function to find out.\n",
    "\n",
    "- `875`\n",
    "- `3.142`\n",
    "- `abs(-3)`\n",
    "- `abs(-3.5)`\n",
    "- `int`\n",
    "- `print`\n",
    "- `print('Hello World!')`"
   ]
  },
  {
   "cell_type": "code",
   "execution_count": 9,
   "id": "adb1d1a4-87d8-404e-abf2-4771212532e1",
   "metadata": {},
   "outputs": [],
   "source": [
    "# Try your solutions here"
   ]
  },
  {
   "cell_type": "markdown",
   "id": "e7fe8224-7be1-42e2-a29f-055b96c5ea4c",
   "metadata": {},
   "source": [
    "## Variables & Arithmetic\n",
    "Calculate the area and circumference of a circle with radius `7`\n",
    "- Calculate and print the area (\\\\(A = \\pi r^2 \\\\))\n",
    "- Calculate and print the circumference (\\\\(C = 2\\pi r \\\\))\n",
    "- Round the number `3.142` to the nearest whole number"
   ]
  },
  {
   "cell_type": "code",
   "execution_count": 7,
   "id": "8b3e3107-cb87-4bfb-ac83-51a8abca1dd3",
   "metadata": {},
   "outputs": [],
   "source": [
    "radius = 7\n",
    "pi = 3.14159\n",
    "# Solutions here"
   ]
  },
  {
   "cell_type": "markdown",
   "id": "308d5b69-adb6-4b2a-8cc8-bd7739aa007f",
   "metadata": {},
   "source": [
    "## Strings\n",
    "- Print the `full_name` in uppercase\n",
    "- Print the first 3 characters of the name\n",
    "- Replace 'Goulden' with 'Pankhurst'\n",
    "- Create an f-string that prints `\"My name is {full_name}\"`"
   ]
  },
  {
   "cell_type": "code",
   "execution_count": 8,
   "id": "41909191-d123-4acc-a982-362253a1e8ea",
   "metadata": {},
   "outputs": [],
   "source": [
    "full_name = \"Emmeline Goulden\"\n",
    "# Solutions here"
   ]
  },
  {
   "cell_type": "markdown",
   "id": "7a0fe4d6-ba49-4a07-881d-95ff30439843",
   "metadata": {},
   "source": [
    "## Type Conversion\n",
    "- Convert `number_string` to an integer\n",
    "- Convert `number_string` to a float and assign it to a variable called `number_float`\n",
    "- Create a new variable with the absolute value of `-17.5`"
   ]
  },
  {
   "cell_type": "code",
   "execution_count": 11,
   "id": "543502f7-46f2-485b-bd70-ecd9cfd164a2",
   "metadata": {},
   "outputs": [],
   "source": [
    "number_string = \"22\""
   ]
  },
  {
   "cell_type": "markdown",
   "id": "5e8ce49c-0c5a-4f4c-b954-33c9f13ea68d",
   "metadata": {},
   "source": [
    "## Download & Submit Notebook to Canvas\n",
    "Export this notebook and submit it to the Canvas page for this course.\n",
    "\n",
    "- Save the notebook by clicking `File` > `Save Notebook`\n",
    "- Right click on the notebook in the File Browser pane and click `Download`\n",
    "- Uploaded the `.ipynb` file to the **Lab 1 Submission** on Canvas\n",
    "\n",
    "You should make periodic saves to your computer to ensure that you are making backup copies of your work from the browser. Follow the process above for submitting your assignments. Remember that clearing the browser cache or using JupyterLite in private browsing mode will not save your changes. "
   ]
  }
 ],
 "metadata": {
  "kernelspec": {
   "display_name": "Python 3 (ipykernel)",
   "language": "python",
   "name": "python3"
  },
  "language_info": {
   "codemirror_mode": {
    "name": "ipython",
    "version": 3
   },
   "file_extension": ".py",
   "mimetype": "text/x-python",
   "name": "python",
   "nbconvert_exporter": "python",
   "pygments_lexer": "ipython3",
   "version": "3.12.8"
  }
 },
 "nbformat": 4,
 "nbformat_minor": 5
}
