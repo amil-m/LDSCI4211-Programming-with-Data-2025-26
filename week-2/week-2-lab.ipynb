{
 "cells": [
  {
   "cell_type": "markdown",
   "id": "1102e0c9-a601-46fc-aba2-f0b02fa1eb5b",
   "metadata": {},
   "source": [
    "# Week 2 - Programming With Data\n",
    "## Lab: Control Statements\n",
    "Complete the exerecises below, plan your algorithm by writing the steps in comments as pseudocode first so that you think through the problem before writing code.\n",
    "\n",
    "Lets start with some of the examples from the lecture first\n",
    "### If Statements"
   ]
  },
  {
   "cell_type": "code",
   "execution_count": null,
   "id": "8b199513-c5ae-47a4-878f-9134445f0672",
   "metadata": {},
   "outputs": [],
   "source": [
    "x = 12\n",
    "\n",
    "if x > 10:\n",
    "    print(\"Greater than 10\")"
   ]
  },
  {
   "cell_type": "markdown",
   "id": "f1dc8394-e76c-4dd5-91f0-b698ab8aec5d",
   "metadata": {},
   "source": [
    "### If...Else"
   ]
  },
  {
   "cell_type": "code",
   "execution_count": null,
   "id": "ccbee527-89cd-4d9c-acfd-c5e0a1e708b6",
   "metadata": {},
   "outputs": [],
   "source": [
    "grade = 52\n",
    "\n",
    "if grade >= 40:\n",
    "    print(\"Pass\")\n",
    "else:\n",
    "    print(\"Fail\")"
   ]
  },
  {
   "cell_type": "markdown",
   "id": "56b0372b-46c4-4544-af24-4f71976b616b",
   "metadata": {},
   "source": [
    "### If..Elif...Else"
   ]
  },
  {
   "cell_type": "code",
   "execution_count": null,
   "id": "200acc13-2fa6-4dc1-8c35-f363e65a1057",
   "metadata": {},
   "outputs": [],
   "source": [
    "mark = 65\n",
    "\n",
    "if mark >= 72:\n",
    "    print(\"Distinction\")\n",
    "elif mark >= 62:\n",
    "    print(\"Merit\")\n",
    "elif mark >= 52:\n",
    "    print(\"Pass\")\n",
    "else:\n",
    "    print(\"Fail\")"
   ]
  },
  {
   "cell_type": "markdown",
   "id": "915af053-f197-498f-b30a-ff0d5ff80ead",
   "metadata": {},
   "source": [
    "### While"
   ]
  },
  {
   "cell_type": "code",
   "execution_count": null,
   "id": "71347c93-b1a4-47b9-a255-d4b196f2f633",
   "metadata": {},
   "outputs": [],
   "source": [
    "i = 10\n",
    "\n",
    "while (i > 0):\n",
    "    print (i)\n",
    "    i -= 1"
   ]
  },
  {
   "cell_type": "markdown",
   "id": "104538c1-e162-4875-9922-ad068d450e79",
   "metadata": {},
   "source": [
    "An infinite is useful in scenarios such as a command line interface where we want to use input from the user to decide what to do or end the program"
   ]
  },
  {
   "cell_type": "code",
   "execution_count": null,
   "id": "32ffa50c-5598-45f4-a341-4fb6a4346f09",
   "metadata": {},
   "outputs": [],
   "source": [
    "# Infinite while loop for a menu in a command line interface\n",
    "while True:\n",
    "    choice = input(\"Exit? (y/n): \")\n",
    "    if choice == \"y\":\n",
    "        break"
   ]
  },
  {
   "cell_type": "markdown",
   "id": "a9a07d64-c7c4-40c7-8803-2b466cd42914",
   "metadata": {},
   "source": [
    "### For"
   ]
  },
  {
   "cell_type": "code",
   "execution_count": null,
   "id": "e55ac445-7183-447b-a077-5ab31fc0e24b",
   "metadata": {},
   "outputs": [],
   "source": [
    "for char in 'Python':\n",
    "    print(char)"
   ]
  },
  {
   "cell_type": "code",
   "execution_count": null,
   "id": "11afd9dd-3922-4f4e-ab47-e51d186f8548",
   "metadata": {},
   "outputs": [],
   "source": [
    "# Using the range function\n",
    "for x in range(5):\n",
    "    if x == 2:\n",
    "        continue\n",
    "        # break\n",
    "    print(x)"
   ]
  },
  {
   "cell_type": "code",
   "execution_count": null,
   "id": "93f7b92d-42a6-4ba3-851b-af8db6db7925",
   "metadata": {},
   "outputs": [],
   "source": [
    "# Using the enumerate function to access the index\n",
    "for idx, x in enumerate([\"a\", \"b\", \"c\"]):\n",
    "    print(f\"index {idx}\")\n",
    "    print(f\"item {x}\\n\")"
   ]
  },
  {
   "cell_type": "markdown",
   "id": "aa60bc41-40a6-4de6-bd92-79850b91d874",
   "metadata": {},
   "source": [
    "---\n",
    "## Exercises\n",
    "### Letter Counter\n",
    "Create a program that counts how many times the letter `i` (including the capital `I`) can be found in the following quote of Plato (Republic, 537a):\n",
    "\n",
    "> Don’t use force in training the children in the studies, but rather play. In that way you can better discern what each is naturally directed towards.\n",
    "\n",
    "*Hints:*\n",
    "- *You can use a `for` loop on a string*\n",
    "- *Use the `.lower()` method to lower case a string*"
   ]
  },
  {
   "cell_type": "code",
   "execution_count": null,
   "id": "a08e21a0-da0b-43c1-8213-5974d47ac166",
   "metadata": {},
   "outputs": [],
   "source": [
    "# Put your code here"
   ]
  },
  {
   "cell_type": "markdown",
   "id": "c7a5cc66-4c0d-49ab-ae44-bf7588b73d26",
   "metadata": {},
   "source": [
    "### Word Counter\n",
    "Take a look at the [.split()](https://docs.python.org/3/library/stdtypes.html#str.split) method and modify the code above so that you are counting the number of words in the quote from Plato. You can also use the [len()](https://docs.python.org/3/library/functions.html#len) function to count the words in a split string, but this week let's focus on using loops."
   ]
  },
  {
   "cell_type": "code",
   "execution_count": null,
   "id": "bb6bc328-0134-4ee5-9458-27373e5d9750",
   "metadata": {},
   "outputs": [],
   "source": [
    "# Put your code here"
   ]
  },
  {
   "cell_type": "markdown",
   "id": "93371dff-9f56-4c7b-a249-a5c772d46b30",
   "metadata": {},
   "source": [
    "### FizzBuzz\n",
    "[FizzBuzz](https://en.wikipedia.org/wiki/Fizz_buzz) is a popular coding exercise to print the numbers up to a 100 and replace each number divisible by five with `fizz` and each number divisible by three with `buzz` and number that is divisible by both three and five with `fizzbuzz`.\n",
    "\n",
    "*Hints :*\n",
    "- *Use the [`range` function](https://docs.python.org/3/library/stdtypes.html#range) to generate an iterable list for a given length*\n",
    "- *Think about the order in which you evaluate the numbers*\n",
    "- *Range starts at `0` so you have to give the function a start value and an end value.*\n",
    "- *The modulo `%` operator gives us the remainder when we divide a number.*"
   ]
  },
  {
   "cell_type": "code",
   "execution_count": null,
   "id": "90533790-a2ef-476a-9b5a-93c486e4a100",
   "metadata": {},
   "outputs": [],
   "source": [
    "# Put your code here\n",
    "for x in range(1, 11):\n",
    "    print(x)"
   ]
  },
  {
   "cell_type": "markdown",
   "id": "ba903195-80b2-40cf-8c47-5009dec18962",
   "metadata": {},
   "source": [
    "### Fahrenheit to Celsius\n",
    "List the numbers from 0 to a 100, every ten steps and convert that number to Fahrenheit and display it next to the number on each line. The following is the formula to convert Fahrenheit to Celcius:\n",
    "\n",
    "$$\n",
    "°\\text{F} = °\\text{C} \\times \\frac{9}{5} + 32\n",
    "$$\n",
    "\n",
    "*Hint: The [`step` parameter](https://docs.python.org/3/library/stdtypes.html#range) of the range function can be used to count every every five steps: `range(0, 105, 10)`.*\n",
    "\n",
    "#### Example Output\n",
    "```\n",
    "0°C = 32°F\n",
    "10°C = 50°F\n",
    "20°C = 68°F\n",
    "30°C = 86°F\n",
    "40°C = 104°F\n",
    "50°C = 122°F\n",
    "60°C = 140°F\n",
    "70°C = 158°F\n",
    "80°C = 176°F\n",
    "90°C = 194°F\n",
    "100°C = 212°F\n",
    "```"
   ]
  },
  {
   "cell_type": "code",
   "execution_count": null,
   "id": "0156c03d-43b2-474a-aa1e-3ec1321ff3cf",
   "metadata": {},
   "outputs": [],
   "source": [
    "# Put your code here"
   ]
  },
  {
   "cell_type": "markdown",
   "id": "df79d746-4465-4c55-8077-1a849854fb88",
   "metadata": {},
   "source": [
    "### Draw a Triangle\n",
    "Ask user for a character and for the height of a triangle and draw it by printing a triangle created using the charecter.\n",
    "\n",
    "For example this triangle's height is 5 and charecter is `W`:\n",
    "\n",
    "```\n",
    "W\n",
    "WW\n",
    "WWW\n",
    "WWWW\n",
    "WWWWW\n",
    "```\n",
    "\n",
    "*Hint: the `range` function can help you genearte an iterable list of a given length*"
   ]
  },
  {
   "cell_type": "code",
   "execution_count": null,
   "id": "a317eab8-c994-4de9-a87a-f04d8edb24f0",
   "metadata": {},
   "outputs": [],
   "source": [
    "# Put your code here"
   ]
  },
  {
   "cell_type": "markdown",
   "id": "62aa80a8-8f1b-4ba1-aa14-a67966e60a16",
   "metadata": {},
   "source": [
    "### Average Grade\n",
    "Task: take the following list of `grades` from a class and calculate the average grade.\n",
    "\n",
    "*Hints:*\n",
    "- *`grades` is a list data structure that can be iterated using a loop.*\n",
    "- *Averages can be calculated by adding together the grades and dividing by the number of exams taken.*"
   ]
  },
  {
   "cell_type": "code",
   "execution_count": null,
   "id": "50a6be1f-a5a1-4cba-90e6-1f6400ec1daf",
   "metadata": {},
   "outputs": [],
   "source": [
    "grades = [89, 47, 32, 54, 71, 49, 46, 58, 13, 35]"
   ]
  },
  {
   "cell_type": "markdown",
   "id": "73b99644-be4a-45be-b942-d0c345b9490a",
   "metadata": {},
   "source": [
    "### Number Guessing Game\n",
    "We can generate a random number between 1 and 100 in Python using the `random` library (more on this next week):\n",
    "\n",
    "```python\n",
    "import random\n",
    "secret_number = random.randint(1, 100)\n",
    "```\n",
    "\n",
    "Use the above snippet of code to ask the user to guess a random number using the `input()` function. You should tell the user whether the guess was too low or too high. Be aware that the `input()` function can cause some issues with Jupyter if the input box is waiting for input, make sure that you press the enter key after inputting a number.\n",
    "\n",
    "*Hint: The input funtion returns a string, convert it to an integer using the `int()` function*\n",
    "\n",
    "#### Example Output\n",
    "```\n",
    "I'm thinking of a number between 1 and 100.\n",
    "Enter your guess: 50\n",
    "Too high! Try again.\n",
    "Enter your guess: 25\n",
    "Too low! Try again.\n",
    "Enter your guess: 43\n",
    "Congratulations! You guessed the number!\n",
    "```"
   ]
  },
  {
   "cell_type": "code",
   "execution_count": null,
   "id": "af4cadd7-b7dc-41b3-abbd-8559a9632b5e",
   "metadata": {},
   "outputs": [],
   "source": [
    "# Put your code here"
   ]
  }
 ],
 "metadata": {
  "kernelspec": {
   "display_name": "Python 3 (ipykernel)",
   "language": "python",
   "name": "python3"
  },
  "language_info": {
   "codemirror_mode": {
    "name": "ipython",
    "version": 3
   },
   "file_extension": ".py",
   "mimetype": "text/x-python",
   "name": "python",
   "nbconvert_exporter": "python",
   "pygments_lexer": "ipython3",
   "version": "3.11.9"
  }
 },
 "nbformat": 4,
 "nbformat_minor": 5
}
